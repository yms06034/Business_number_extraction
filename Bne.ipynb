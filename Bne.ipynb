{
 "cells": [
  {
   "cell_type": "code",
   "execution_count": 45,
   "id": "2ceff325",
   "metadata": {},
   "outputs": [],
   "source": [
    "from selenium import webdriver\n",
    "from selenium.webdriver.common.by import By\n",
    "from selenium.webdriver.common.keys import Keys\n",
    "from selenium.webdriver.chrome.options import Options\n",
    "from selenium.webdriver.chrome.service import Service\n",
    "from selenium.common.exceptions import NoSuchElementException\n",
    "from selenium.webdriver.support.ui import WebDriverWait\n",
    "from selenium.webdriver.support import expected_conditions as EC\n",
    "\n",
    "from bs4 import BeautifulSoup as BS\n",
    "from datetime import datetime\n",
    "\n",
    "import pandas as pd\n",
    "import time\n",
    "import sys, os\n",
    "import re\n",
    "import json, requests\n",
    "import math\n",
    "\n",
    "\n",
    "def find_css(css_selector, browser):\n",
    "    return browser.find_element(By.CSS_SELECTOR, css_selector)\n",
    "def finds_css(css_selector, browser):\n",
    "    return browser.find_elements(By.CSS_SELECTOR, css_selector)\n",
    "\n",
    "def find_xpath(xpath, browser):\n",
    "    return browser.find_element(By.XPATH, xpath)\n",
    "def finds_xpath(xpath, browser):\n",
    "    return browser.find_elements(By.XPATH, xpath)\n",
    "\n",
    "def find_id(e_id, browser):\n",
    "    return browser.find_element(By.ID, e_id)\n",
    "\n",
    "def find_className(cn, browser):\n",
    "    return browser.find_element(By.CLASS_NAME, cn)\n",
    "def finds_className(cn , browser):\n",
    "    return browser.find_elements(By.CLASS_NAME, cn)\n",
    "\n",
    "def find_linktext(lt, browser):\n",
    "    return browser.find_element(By.LINK_TEXT, lt)\n",
    "\n",
    "def find_name(name, browser):\n",
    "    return browser.find_element(By.NAME, name)\n",
    "def finds_name(name, browser):\n",
    "    return browser.find_elements(By.NAME, name)\n",
    "\n",
    "def find_tagName(tag_name, browser):\n",
    "    return browser.find_element(By.TAG_NAME, tag_name)\n",
    "\n",
    "def finds_tagName(tag_name, browser):\n",
    "    return browser.find_elements(By.TAG_NAME, tag_name)\n",
    "\n",
    "def resource_path(relative_path):\n",
    "    \"\"\" Get absolute path to resource, works for dev and for PyInstaller \"\"\"\n",
    "    base_path = getattr(sys, '_MEIPASS', os.path.dirname(os.path.abspath(__file__)))\n",
    "    return os.path.join(base_path, relative_path)"
   ]
  },
  {
   "cell_type": "code",
   "execution_count": 46,
   "id": "7dc428a2",
   "metadata": {},
   "outputs": [],
   "source": [
    "def open_browser():\n",
    "    options = webdriver.ChromeOptions()\n",
    "    options.add_argument('--no--sandbox')\n",
    "    options.add_argument('no-sandbox')\n",
    "    options.add_argument('--disable-dev-shm-suage')\n",
    "    options.add_argument('--window-size=1080,800')\n",
    "    options.add_argument('incognito')\n",
    "    chrome_service = Service('chromedriver')\n",
    "    chrome_service = Service(executable_path='chromedriver.exe')\n",
    "    \n",
    "    browser = webdriver.Chrome(service=chrome_service, options=options)\n",
    "    \n",
    "    return browser"
   ]
  },
  {
   "cell_type": "code",
   "execution_count": 48,
   "id": "f24b521b",
   "metadata": {},
   "outputs": [],
   "source": [
    "data = {}\n",
    "count = 0\n",
    "kw = '강남 맛집'\n",
    "\n",
    "hdr = {'User-Agent':'Mozilla/5.0 (Windows NT 10.0; Win64; x64) AppleWebKit/537.36 (KHTML, like Gecko) Chrome/121.0.0.0 Safari/537.36'}\n",
    "url = f'https://map.naver.com/p/search/{kw}'\n",
    "\n",
    "response = requests.get(url, headers=hdr)\n",
    "if response.status_code == 200:\n",
    "    soup = BS(response.text, 'html.parser')"
   ]
  },
  {
   "cell_type": "code",
   "execution_count": 49,
   "id": "cd0a2c0b",
   "metadata": {},
   "outputs": [],
   "source": [
    "def open_url(browser, kw):\n",
    "    browser.get(f'https://map.naver.com/p/search/{kw}')\n",
    "    browser.implicitly_wait(2)"
   ]
  },
  {
   "cell_type": "code",
   "execution_count": 50,
   "id": "262741be",
   "metadata": {},
   "outputs": [],
   "source": [
    "browser = open_browser()\n",
    "open_url(browser, kw)"
   ]
  },
  {
   "cell_type": "code",
   "execution_count": 51,
   "id": "08d181f2",
   "metadata": {},
   "outputs": [],
   "source": [
    "browser.switch_to.frame('searchIframe')"
   ]
  },
  {
   "cell_type": "code",
   "execution_count": 54,
   "id": "10b6efd7",
   "metadata": {},
   "outputs": [
    {
     "data": {
      "text/plain": [
       "50"
      ]
     },
     "execution_count": 54,
     "metadata": {},
     "output_type": "execute_result"
    }
   ],
   "source": [
    "len(finds_className('tzwk0', browser))"
   ]
  },
  {
   "cell_type": "markdown",
   "id": "6f85a34b",
   "metadata": {},
   "source": [
    "## kakao Map Crawling"
   ]
  },
  {
   "cell_type": "code",
   "execution_count": 29,
   "id": "55589735",
   "metadata": {},
   "outputs": [],
   "source": [
    "ka_kw = '아차산 맛집'"
   ]
  },
  {
   "cell_type": "code",
   "execution_count": 30,
   "id": "591c1591",
   "metadata": {},
   "outputs": [],
   "source": [
    "def ka_open_url(browser):\n",
    "    browser.get(f'https://map.kakao.com/')\n",
    "    browser.implicitly_wait(2)"
   ]
  },
  {
   "cell_type": "code",
   "execution_count": 13,
   "id": "b583d9a5",
   "metadata": {},
   "outputs": [],
   "source": [
    "browser = open_browser()\n",
    "ka_open_url(browser)"
   ]
  },
  {
   "cell_type": "code",
   "execution_count": 31,
   "id": "8fcbf251",
   "metadata": {},
   "outputs": [],
   "source": [
    "# Search KeyWord\n",
    "find_id('search.keyword.query', browser).clear()\n",
    "find_id('search.keyword.query', browser).send_keys(ka_kw)\n",
    "time.sleep(1)\n",
    "find_id('search.keyword.query', browser).send_keys('\\n')"
   ]
  },
  {
   "cell_type": "code",
   "execution_count": 35,
   "id": "c10365de",
   "metadata": {},
   "outputs": [
    {
     "name": "stdout",
     "output_type": "stream",
     "text": [
      "71\n"
     ]
    }
   ],
   "source": [
    "# FInd info.search.place.Count\n",
    "place_cnt = find_id('info.search.place.cnt', browser).text\n",
    "place_cnt = place_cnt.replace(',', '')\n",
    "place_cnt = int(place_cnt)\n",
    "place_cnt = math.ceil(place_cnt/15)\n",
    "place_cnt = math.ceil(place_cnt/5)\n",
    "print(place_cnt)"
   ]
  },
  {
   "cell_type": "code",
   "execution_count": 36,
   "id": "7d5ac631",
   "metadata": {},
   "outputs": [
    {
     "data": {
      "text/plain": [
       "350"
      ]
     },
     "execution_count": 36,
     "metadata": {},
     "output_type": "execute_result"
    }
   ],
   "source": [
    "find_id_list = []\n",
    "remove_find_id_list = []\n",
    "\n",
    "for _ in range(1, place_cnt):\n",
    "    for i in range(1, 6):\n",
    "        find_id_list.append(f'info.search.page.no{i}')\n",
    "        if i % 5 == 0:\n",
    "            find_id_list.append('info.search.page.next')\n",
    "            \n",
    "final_find_id_list = [item for item in find_id_list if item != 'info.search.page.no1']\n",
    "len(final_find_id_list)"
   ]
  },
  {
   "cell_type": "code",
   "execution_count": 23,
   "id": "82f6a088",
   "metadata": {},
   "outputs": [],
   "source": [
    "# find_id_list = []\n",
    "# remove_find_id_list = []\n",
    "\n",
    "# for idx in range(1, place_cnt):\n",
    "#     find_id_list.append(f'info.search.page.no{idx}')\n",
    "#     if idx % 5 == 0:\n",
    "#         find_id_list.append('info.search.page.next')\n",
    "\n",
    "# for idx in range(1, place_cnt):\n",
    "#     if idx % 5 == 0 + 1:\n",
    "#         remove_find_id_list.append(f'info.search.page.no{idx}')\n",
    "        \n",
    "# filtered_data = [item for item in find_id_list if item not in remove_find_id_list]"
   ]
  },
  {
   "cell_type": "code",
   "execution_count": 37,
   "id": "aeb25bb7",
   "metadata": {},
   "outputs": [],
   "source": [
    "name_list = []\n",
    "category_list = []\n",
    "tel_list = []\n",
    "addr_list = []\n",
    "\n",
    "soup = BS(browser.page_source, 'html.parser')\n",
    "\n",
    "for shop_name in soup.find_all(class_='link_name'):\n",
    "    name_list.append(shop_name.text)\n",
    "    \n",
    "for shop_category in soup.find_all(class_='subcategory clickable'):\n",
    "    category_list.append(shop_category.text)\n",
    "    \n",
    "for shop_tel in soup.find_all(class_='phone'):\n",
    "    tel_list.append(shop_tel.text)    \n",
    "    \n",
    "for shop_addr in soup.find_all(class_='addr'):\n",
    "    addr_list.append(shop_addr.text)\n",
    "    \n",
    "time.sleep(2)\n",
    "find_id('info.search.place.more', browser).click()"
   ]
  },
  {
   "cell_type": "code",
   "execution_count": 38,
   "id": "a7cbd5bb",
   "metadata": {
    "scrolled": true
   },
   "outputs": [],
   "source": [
    "count = 1\n",
    "\n",
    "for idx, text in enumerate(final_find_id_list[:100]):\n",
    "    soup = BS(browser.page_source, 'html.parser')\n",
    "\n",
    "    for shop_name in soup.find_all(class_='link_name'):\n",
    "        name_list.append(shop_name.text)\n",
    "\n",
    "    for shop_category in soup.find_all(class_='subcategory clickable'):\n",
    "        category_list.append(shop_category.text)\n",
    "\n",
    "    for shop_tel in soup.find_all(class_='phone'):\n",
    "        tel_list.append(shop_tel.text)    \n",
    "\n",
    "    for shop_addr in soup.find_all(class_='addr'):\n",
    "        addr_list.append(shop_addr.text)\n",
    "\n",
    "    find_id(f'{text}', browser).click()\n",
    "    if idx % 5 == 0:\n",
    "        time.sleep(1)\n",
    "\n",
    "    count += 1\n",
    "    if count == 34:\n",
    "        break"
   ]
  },
  {
   "cell_type": "code",
   "execution_count": null,
   "id": "36866eef",
   "metadata": {},
   "outputs": [],
   "source": [
    "print(\"name_list :\", len(name_list))\n",
    "print(\"category_list :\", len(category_list))\n",
    "print(\"tel_list :\", len(tel_list))\n",
    "print(\"addr_list :\", len(addr_list))"
   ]
  },
  {
   "cell_type": "code",
   "execution_count": 39,
   "id": "0053cd8e",
   "metadata": {},
   "outputs": [],
   "source": [
    "df = pd.DataFrame({\n",
    "    \"name\": name_list,\n",
    "    \"category\": category_list,\n",
    "    \"tel\": tel_list,\n",
    "    \"addr\": addr_list,\n",
    "})"
   ]
  },
  {
   "cell_type": "code",
   "execution_count": 40,
   "id": "3603f447",
   "metadata": {},
   "outputs": [],
   "source": [
    "df.to_excel(f'{ka_kw} 전화번호 정보.xlsx', index=False)"
   ]
  },
  {
   "cell_type": "code",
   "execution_count": null,
   "id": "5f630443",
   "metadata": {},
   "outputs": [],
   "source": []
  },
  {
   "cell_type": "code",
   "execution_count": null,
   "id": "e48b02c4",
   "metadata": {},
   "outputs": [],
   "source": []
  }
 ],
 "metadata": {
  "kernelspec": {
   "display_name": "Python 3 (ipykernel)",
   "language": "python",
   "name": "python3"
  },
  "language_info": {
   "codemirror_mode": {
    "name": "ipython",
    "version": 3
   },
   "file_extension": ".py",
   "mimetype": "text/x-python",
   "name": "python",
   "nbconvert_exporter": "python",
   "pygments_lexer": "ipython3",
   "version": "3.11.5"
  }
 },
 "nbformat": 4,
 "nbformat_minor": 5
}
