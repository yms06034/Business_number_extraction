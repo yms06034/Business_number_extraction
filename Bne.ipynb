{
 "cells": [
  {
   "cell_type": "code",
   "execution_count": 45,
   "id": "2ceff325",
   "metadata": {},
   "outputs": [],
   "source": [
    "from selenium import webdriver\n",
    "from selenium.webdriver.common.by import By\n",
    "from selenium.webdriver.common.keys import Keys\n",
    "from selenium.webdriver.chrome.options import Options\n",
    "from selenium.webdriver.chrome.service import Service\n",
    "from selenium.common.exceptions import NoSuchElementException\n",
    "from selenium.webdriver.support.ui import WebDriverWait\n",
    "from selenium.webdriver.support import expected_conditions as EC\n",
    "\n",
    "from bs4 import BeautifulSoup as BS\n",
    "from datetime import datetime\n",
    "\n",
    "import pandas as pd\n",
    "import time\n",
    "import sys, os\n",
    "import re\n",
    "import json, requests\n",
    "import math\n",
    "\n",
    "\n",
    "def find_css(css_selector, browser):\n",
    "    return browser.find_element(By.CSS_SELECTOR, css_selector)\n",
    "def finds_css(css_selector, browser):\n",
    "    return browser.find_elements(By.CSS_SELECTOR, css_selector)\n",
    "\n",
    "def find_xpath(xpath, browser):\n",
    "    return browser.find_element(By.XPATH, xpath)\n",
    "def finds_xpath(xpath, browser):\n",
    "    return browser.find_elements(By.XPATH, xpath)\n",
    "\n",
    "def find_id(e_id, browser):\n",
    "    return browser.find_element(By.ID, e_id)\n",
    "\n",
    "def find_className(cn, browser):\n",
    "    return browser.find_element(By.CLASS_NAME, cn)\n",
    "def finds_className(cn , browser):\n",
    "    return browser.find_elements(By.CLASS_NAME, cn)\n",
    "\n",
    "def find_linktext(lt, browser):\n",
    "    return browser.find_element(By.LINK_TEXT, lt)\n",
    "\n",
    "def find_name(name, browser):\n",
    "    return browser.find_element(By.NAME, name)\n",
    "def finds_name(name, browser):\n",
    "    return browser.find_elements(By.NAME, name)\n",
    "\n",
    "def find_tagName(tag_name, browser):\n",
    "    return browser.find_element(By.TAG_NAME, tag_name)\n",
    "\n",
    "def finds_tagName(tag_name, browser):\n",
    "    return browser.find_elements(By.TAG_NAME, tag_name)\n",
    "\n",
    "def resource_path(relative_path):\n",
    "    \"\"\" Get absolute path to resource, works for dev and for PyInstaller \"\"\"\n",
    "    base_path = getattr(sys, '_MEIPASS', os.path.dirname(os.path.abspath(__file__)))\n",
    "    return os.path.join(base_path, relative_path)"
   ]
  },
  {
   "cell_type": "code",
   "execution_count": 46,
   "id": "7dc428a2",
   "metadata": {},
   "outputs": [],
   "source": [
    "def open_browser():\n",
    "    options = webdriver.ChromeOptions()\n",
    "    options.add_argument('--no--sandbox')\n",
    "    options.add_argument('no-sandbox')\n",
    "    options.add_argument('--disable-dev-shm-suage')\n",
    "    options.add_argument('--window-size=1080,800')\n",
    "    options.add_argument('incognito')\n",
    "    chrome_service = Service('chromedriver')\n",
    "    chrome_service = Service(executable_path='chromedriver.exe')\n",
    "    \n",
    "    browser = webdriver.Chrome(service=chrome_service, options=options)\n",
    "    \n",
    "    return browser"
   ]
  },
  {
   "cell_type": "code",
   "execution_count": 48,
   "id": "f24b521b",
   "metadata": {},
   "outputs": [],
   "source": [
    "data = {}\n",
    "count = 0\n",
    "kw = '강남 맛집'\n",
    "\n",
    "hdr = {'User-Agent':'Mozilla/5.0 (Windows NT 10.0; Win64; x64) AppleWebKit/537.36 (KHTML, like Gecko) Chrome/121.0.0.0 Safari/537.36'}\n",
    "url = f'https://map.naver.com/p/search/{kw}'\n",
    "\n",
    "response = requests.get(url, headers=hdr)\n",
    "if response.status_code == 200:\n",
    "    soup = BS(response.text, 'html.parser')"
   ]
  },
  {
   "cell_type": "code",
   "execution_count": 49,
   "id": "cd0a2c0b",
   "metadata": {},
   "outputs": [],
   "source": [
    "def open_url(browser, kw):\n",
    "    browser.get(f'https://map.naver.com/p/search/{kw}')\n",
    "    browser.implicitly_wait(2)"
   ]
  },
  {
   "cell_type": "code",
   "execution_count": 50,
   "id": "262741be",
   "metadata": {},
   "outputs": [],
   "source": [
    "browser = open_browser()\n",
    "open_url(browser, kw)"
   ]
  },
  {
   "cell_type": "code",
   "execution_count": 51,
   "id": "08d181f2",
   "metadata": {},
   "outputs": [],
   "source": [
    "browser.switch_to.frame('searchIframe')"
   ]
  },
  {
   "cell_type": "code",
   "execution_count": 54,
   "id": "10b6efd7",
   "metadata": {},
   "outputs": [
    {
     "data": {
      "text/plain": [
       "50"
      ]
     },
     "execution_count": 54,
     "metadata": {},
     "output_type": "execute_result"
    }
   ],
   "source": [
    "len(finds_className('tzwk0', browser))"
   ]
  },
  {
   "cell_type": "markdown",
   "id": "6f85a34b",
   "metadata": {},
   "source": [
    "## kakao Map Crawling"
   ]
  },
  {
   "cell_type": "code",
   "execution_count": 142,
   "id": "55589735",
   "metadata": {},
   "outputs": [],
   "source": [
    "ka_kw_list = ['연신내 맛집', '을지로 맛집', '구파발 맛집', '군자역맛집', '경복궁 맛집']"
   ]
  },
  {
   "cell_type": "code",
   "execution_count": 56,
   "id": "591c1591",
   "metadata": {},
   "outputs": [],
   "source": [
    "def ka_open_url(browser):\n",
    "    browser.get(f'https://map.kakao.com/')\n",
    "    browser.implicitly_wait(2)"
   ]
  },
  {
   "cell_type": "code",
   "execution_count": 145,
   "id": "5081819c",
   "metadata": {},
   "outputs": [
    {
     "data": {
      "text/plain": [
       "'군자역맛집'"
      ]
     },
     "execution_count": 145,
     "metadata": {},
     "output_type": "execute_result"
    }
   ],
   "source": [
    "ka_kw_list[3]"
   ]
  },
  {
   "cell_type": "code",
   "execution_count": null,
   "id": "b583d9a5",
   "metadata": {},
   "outputs": [],
   "source": [
    "browser = open_browser()\n",
    "ka_open_url(browser)\n",
    "place_cnt = search_keyword(browser, ka_kw_list[3])\n",
    "if place_cnt != 0:\n",
    "    final_find_id_list = find_id_list_excetion()\n",
    "    print(final_find_id_list)\n",
    "else:\n",
    "    print(' 해당 키워드가 없습니다. ')"
   ]
  },
  {
   "cell_type": "code",
   "execution_count": 150,
   "id": "ebe54a11",
   "metadata": {},
   "outputs": [
    {
     "name": "stdout",
     "output_type": "stream",
     "text": [
      "키워드가 없음\n"
     ]
    }
   ],
   "source": [
    "if find_className('noKeyword', browser):\n",
    "    print('키워드가 없음')"
   ]
  },
  {
   "cell_type": "code",
   "execution_count": null,
   "id": "8fcbf251",
   "metadata": {},
   "outputs": [],
   "source": [
    "def search_keyword(browser, ka_kw):\n",
    "    find_id('search.keyword.query', browser).clear()\n",
    "    find_id('search.keyword.query', browser).send_keys(ka_kw)\n",
    "    time.sleep(1)\n",
    "    find_id('search.keyword.query', browser).send_keys('\\n')\n",
    "    time.sleep(1)\n",
    "\n",
    "    # FInd info.search.place.Count\n",
    "    try:\n",
    "        place_cnt = find_id('info.search.place.cnt', browser).text\n",
    "    except:\n",
    "        return 0\n",
    "\n",
    "    return place_cnt"
   ]
  },
  {
   "cell_type": "code",
   "execution_count": 152,
   "id": "c10365de",
   "metadata": {},
   "outputs": [],
   "source": [
    "def find_id_list_excetion():\n",
    "    find_id_list = []\n",
    "\n",
    "    for _ in range(1, 150):\n",
    "        for i in range(1, 6):\n",
    "            find_id_list.append(f'info.search.page.no{i}')\n",
    "            if i % 5 == 0:\n",
    "                find_id_list.append('info.search.page.next')\n",
    "                \n",
    "    final_find_id_list = [item for item in find_id_list if item != 'info.search.page.no1']\n",
    "    \n",
    "    return final_find_id_list"
   ]
  },
  {
   "cell_type": "code",
   "execution_count": 140,
   "id": "7d5ac631",
   "metadata": {},
   "outputs": [
    {
     "data": {
      "text/plain": [
       "745"
      ]
     },
     "execution_count": 140,
     "metadata": {},
     "output_type": "execute_result"
    }
   ],
   "source": [
    "find_id_list = []\n",
    "remove_find_id_list = []\n",
    "\n",
    "for _ in range(1, 150):\n",
    "    for i in range(1, 6):\n",
    "        find_id_list.append(f'info.search.page.no{i}')\n",
    "        if i % 5 == 0:\n",
    "            find_id_list.append('info.search.page.next')\n",
    "            \n",
    "final_find_id_list = [item for item in find_id_list if item != 'info.search.page.no1']\n",
    "len(final_find_id_list)"
   ]
  },
  {
   "cell_type": "code",
   "execution_count": 141,
   "id": "6b8753a3",
   "metadata": {},
   "outputs": [
    {
     "data": {
      "text/plain": [
       "745"
      ]
     },
     "execution_count": 141,
     "metadata": {},
     "output_type": "execute_result"
    }
   ],
   "source": [
    "len(final_find_id_list)"
   ]
  },
  {
   "cell_type": "code",
   "execution_count": 129,
   "id": "aeb25bb7",
   "metadata": {},
   "outputs": [],
   "source": [
    "browser = open_browser()\n",
    "\n",
    "def final_logic(browser, ka_kw):\n",
    "    ka_open_url(browser)\n",
    "    place_cnt = search_keyword(browser, ka_kw)\n",
    "    final_find_id_list = find_id_list_excetion(place_cnt)\n",
    "\n",
    "    name_list = []\n",
    "    category_list = []\n",
    "    tel_list = []\n",
    "    addr_list = []\n",
    "\n",
    "    soup = BS(browser.page_source, 'html.parser')\n",
    "\n",
    "    for shop_name in soup.find_all(class_='link_name'):\n",
    "        name_list.append(shop_name.text)\n",
    "\n",
    "    for shop_category in soup.find_all(class_='subcategory clickable'):\n",
    "        category_list.append(shop_category.text)\n",
    "\n",
    "    for shop_tel in soup.find_all(class_='phone'):\n",
    "        tel_list.append(shop_tel.text)    \n",
    "\n",
    "    for shop_addr in soup.find_all(class_='addr'):\n",
    "        addr_list.append(shop_addr.text)\n",
    "\n",
    "    browser.execute_script(\"document.getElementById('info.search.place.more').click();\")\n",
    "\n",
    "    count = 1\n",
    "    try:\n",
    "        for idx, text in enumerate(final_find_id_list):\n",
    "            time.sleep(1)\n",
    "            soup = BS(browser.page_source, 'html.parser')\n",
    "\n",
    "            for shop_name in soup.find_all(class_='link_name'):\n",
    "                name_list.append(shop_name.text)\n",
    "\n",
    "            for shop_category in soup.find_all(class_='subcategory clickable'):\n",
    "                category_list.append(shop_category.text)\n",
    "\n",
    "            for shop_tel in soup.find_all(class_='phone'):\n",
    "                tel_list.append(shop_tel.text)    \n",
    "\n",
    "            for shop_addr in soup.find_all(class_='addr'):\n",
    "                addr_list.append(shop_addr.text)\n",
    "\n",
    "            browser.execute_script(f\"document.getElementById('{text}').click();\")\n",
    "\n",
    "            count += 1\n",
    "            if count == 34:\n",
    "                break\n",
    "    except:\n",
    "        df = pd.DataFrame({\n",
    "            \"name\": name_list,\n",
    "            \"category\": category_list,\n",
    "            \"tel\": tel_list,\n",
    "            \"addr\": addr_list,\n",
    "        })\n",
    "\n",
    "        df.to_excel(f'{ka_kw} 전화번호 정보.xlsx', index=False)\n",
    "        return 2\n",
    "\n",
    "    time.sleep(1)\n",
    "    df = pd.DataFrame({\n",
    "        \"name\": name_list,\n",
    "        \"category\": category_list,\n",
    "        \"tel\": tel_list,\n",
    "        \"addr\": addr_list,\n",
    "    })\n",
    "\n",
    "    df.to_excel(f'{ka_kw} 전화번호 정보.xlsx', index=False)\n",
    "    \n",
    "    return 1"
   ]
  },
  {
   "cell_type": "code",
   "execution_count": 130,
   "id": "3fed6e6c",
   "metadata": {},
   "outputs": [],
   "source": [
    "for ka_kw in ka_kw_list:\n",
    "    final_logic(browser, ka_kw)\n",
    "    time.sleep(1.5)"
   ]
  },
  {
   "cell_type": "code",
   "execution_count": 88,
   "id": "a7cbd5bb",
   "metadata": {
    "scrolled": true
   },
   "outputs": [],
   "source": [
    "count = 1\n",
    "\n",
    "for idx, text in enumerate(final_find_id_list):\n",
    "    soup = BS(browser.page_source, 'html.parser')\n",
    "\n",
    "    for shop_name in soup.find_all(class_='link_name'):\n",
    "        name_list.append(shop_name.text)\n",
    "\n",
    "    for shop_category in soup.find_all(class_='subcategory clickable'):\n",
    "        category_list.append(shop_category.text)\n",
    "\n",
    "    for shop_tel in soup.find_all(class_='phone'):\n",
    "        tel_list.append(shop_tel.text)    \n",
    "\n",
    "    for shop_addr in soup.find_all(class_='addr'):\n",
    "        addr_list.append(shop_addr.text)\n",
    "    \n",
    "    browser.execute_script(f\"document.getElementById('{text}').click();\")\n",
    "    if idx % 5 == 0:\n",
    "        time.sleep(1)\n",
    "\n",
    "    count += 1\n",
    "    if count == 34:\n",
    "        break"
   ]
  },
  {
   "cell_type": "code",
   "execution_count": 131,
   "id": "81207d57",
   "metadata": {},
   "outputs": [
    {
     "name": "stdout",
     "output_type": "stream",
     "text": [
      "name_list : 510\n",
      "category_list : 510\n",
      "tel_list : 510\n",
      "addr_list : 510\n"
     ]
    }
   ],
   "source": [
    "print(\"name_list :\", len(name_list))\n",
    "print(\"category_list :\", len(category_list))\n",
    "print(\"tel_list :\", len(tel_list))\n",
    "print(\"addr_list :\", len(addr_list))"
   ]
  },
  {
   "cell_type": "code",
   "execution_count": 90,
   "id": "0053cd8e",
   "metadata": {},
   "outputs": [],
   "source": [
    "df = pd.DataFrame({\n",
    "    \"name\": name_list,\n",
    "    \"category\": category_list,\n",
    "    \"tel\": tel_list,\n",
    "    \"addr\": addr_list,\n",
    "})"
   ]
  },
  {
   "cell_type": "code",
   "execution_count": 133,
   "id": "3603f447",
   "metadata": {},
   "outputs": [],
   "source": [
    "df.to_excel(f'test/{ka_kw} 전화번호 정보.xlsx', index=False)"
   ]
  },
  {
   "cell_type": "code",
   "execution_count": null,
   "id": "5f630443",
   "metadata": {},
   "outputs": [],
   "source": []
  },
  {
   "cell_type": "code",
   "execution_count": null,
   "id": "e48b02c4",
   "metadata": {},
   "outputs": [],
   "source": []
  }
 ],
 "metadata": {
  "kernelspec": {
   "display_name": "Python 3 (ipykernel)",
   "language": "python",
   "name": "python3"
  },
  "language_info": {
   "codemirror_mode": {
    "name": "ipython",
    "version": 3
   },
   "file_extension": ".py",
   "mimetype": "text/x-python",
   "name": "python",
   "nbconvert_exporter": "python",
   "pygments_lexer": "ipython3",
   "version": "3.11.5"
  }
 },
 "nbformat": 4,
 "nbformat_minor": 5
}
